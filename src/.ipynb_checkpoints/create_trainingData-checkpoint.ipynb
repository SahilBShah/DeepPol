{
 "cells": [
  {
   "cell_type": "code",
   "execution_count": 1,
   "id": "d8aafffd",
   "metadata": {},
   "outputs": [],
   "source": [
    "import pandas as pd\n",
    "import numpy as np\n",
    "from Bio import SeqIO\n",
    "import glob\n",
    "\n",
    "from datetime import datetime\n",
    "from fasta_one_hot_encoder import FastaOneHotEncoder"
   ]
  },
  {
   "cell_type": "markdown",
   "id": "06210fd9",
   "metadata": {},
   "source": [
    "## Convert fasta files into one hot encoded files"
   ]
  },
  {
   "cell_type": "code",
   "execution_count": 2,
   "id": "c61c4fa8",
   "metadata": {
    "scrolled": true
   },
   "outputs": [
    {
     "name": "stderr",
     "output_type": "stream",
     "text": [
      "1it [00:44, 44.62s/it]\n"
     ]
    },
    {
     "name": "stdout",
     "output_type": "stream",
     "text": [
      "chr16\n"
     ]
    },
    {
     "name": "stderr",
     "output_type": "stream",
     "text": [
      "1it [00:56, 56.15s/it]\n"
     ]
    },
    {
     "name": "stdout",
     "output_type": "stream",
     "text": [
      "chr13\n"
     ]
    },
    {
     "name": "stderr",
     "output_type": "stream",
     "text": [
      "1it [01:29, 89.00s/it]\n"
     ]
    },
    {
     "name": "stdout",
     "output_type": "stream",
     "text": [
      "chr5\n"
     ]
    },
    {
     "name": "stderr",
     "output_type": "stream",
     "text": [
      "1it [00:40, 40.77s/it]\n"
     ]
    },
    {
     "name": "stdout",
     "output_type": "stream",
     "text": [
      "chr17\n"
     ]
    },
    {
     "name": "stderr",
     "output_type": "stream",
     "text": [
      "1it [01:16, 76.15s/it]\n"
     ]
    },
    {
     "name": "stdout",
     "output_type": "stream",
     "text": [
      "chrX\n"
     ]
    },
    {
     "name": "stderr",
     "output_type": "stream",
     "text": [
      "1it [02:03, 123.56s/it]\n"
     ]
    },
    {
     "name": "stdout",
     "output_type": "stream",
     "text": [
      "chr1\n"
     ]
    },
    {
     "name": "stderr",
     "output_type": "stream",
     "text": [
      "1it [00:28, 28.80s/it]\n"
     ]
    },
    {
     "name": "stdout",
     "output_type": "stream",
     "text": [
      "chr19\n"
     ]
    },
    {
     "name": "stderr",
     "output_type": "stream",
     "text": [
      "1it [00:39, 39.53s/it]\n"
     ]
    },
    {
     "name": "stdout",
     "output_type": "stream",
     "text": [
      "chr18\n"
     ]
    },
    {
     "name": "stderr",
     "output_type": "stream",
     "text": [
      "1it [01:07, 67.58s/it]\n"
     ]
    },
    {
     "name": "stdout",
     "output_type": "stream",
     "text": [
      "chr9\n"
     ]
    },
    {
     "name": "stderr",
     "output_type": "stream",
     "text": [
      "1it [00:23, 23.12s/it]\n"
     ]
    },
    {
     "name": "stdout",
     "output_type": "stream",
     "text": [
      "chr21\n"
     ]
    },
    {
     "name": "stderr",
     "output_type": "stream",
     "text": [
      "1it [01:05, 65.71s/it]\n"
     ]
    },
    {
     "name": "stdout",
     "output_type": "stream",
     "text": [
      "chr10\n"
     ]
    },
    {
     "name": "stderr",
     "output_type": "stream",
     "text": [
      "1it [01:11, 71.04s/it]\n"
     ]
    },
    {
     "name": "stdout",
     "output_type": "stream",
     "text": [
      "chr8\n"
     ]
    },
    {
     "name": "stderr",
     "output_type": "stream",
     "text": [
      "1it [00:28, 28.12s/it]\n"
     ]
    },
    {
     "name": "stdout",
     "output_type": "stream",
     "text": [
      "chrY\n"
     ]
    },
    {
     "name": "stderr",
     "output_type": "stream",
     "text": [
      "1it [00:50, 50.07s/it]\n"
     ]
    },
    {
     "name": "stdout",
     "output_type": "stream",
     "text": [
      "chr15\n"
     ]
    },
    {
     "name": "stderr",
     "output_type": "stream",
     "text": [
      "1it [01:59, 119.54s/it]\n"
     ]
    },
    {
     "name": "stdout",
     "output_type": "stream",
     "text": [
      "chr2\n"
     ]
    },
    {
     "name": "stderr",
     "output_type": "stream",
     "text": [
      "1it [01:06, 66.06s/it]\n"
     ]
    },
    {
     "name": "stdout",
     "output_type": "stream",
     "text": [
      "chr11\n"
     ]
    },
    {
     "name": "stderr",
     "output_type": "stream",
     "text": [
      "1it [01:41, 101.25s/it]\n"
     ]
    },
    {
     "name": "stdout",
     "output_type": "stream",
     "text": [
      "chr3\n"
     ]
    },
    {
     "name": "stderr",
     "output_type": "stream",
     "text": [
      "1it [00:52, 52.26s/it]\n"
     ]
    },
    {
     "name": "stdout",
     "output_type": "stream",
     "text": [
      "chr14\n"
     ]
    },
    {
     "name": "stderr",
     "output_type": "stream",
     "text": [
      "1it [00:32, 32.76s/it]\n"
     ]
    },
    {
     "name": "stdout",
     "output_type": "stream",
     "text": [
      "chr20\n"
     ]
    },
    {
     "name": "stderr",
     "output_type": "stream",
     "text": [
      "1it [01:23, 83.59s/it]\n"
     ]
    },
    {
     "name": "stdout",
     "output_type": "stream",
     "text": [
      "chr6\n"
     ]
    },
    {
     "name": "stderr",
     "output_type": "stream",
     "text": [
      "1it [01:05, 65.31s/it]\n"
     ]
    },
    {
     "name": "stdout",
     "output_type": "stream",
     "text": [
      "chr12\n"
     ]
    },
    {
     "name": "stderr",
     "output_type": "stream",
     "text": [
      "1it [00:24, 24.97s/it]\n"
     ]
    },
    {
     "name": "stdout",
     "output_type": "stream",
     "text": [
      "chr22\n"
     ]
    },
    {
     "name": "stderr",
     "output_type": "stream",
     "text": [
      "1it [01:33, 93.22s/it]\n"
     ]
    },
    {
     "name": "stdout",
     "output_type": "stream",
     "text": [
      "chr4\n"
     ]
    },
    {
     "name": "stderr",
     "output_type": "stream",
     "text": [
      "1it [01:17, 77.94s/it]\n"
     ]
    },
    {
     "name": "stdout",
     "output_type": "stream",
     "text": [
      "chr7\n"
     ]
    }
   ],
   "source": [
    "encoder = FastaOneHotEncoder(\n",
    "    nucleotides=\"acgt\",\n",
    "    lower = True,\n",
    "    sparse = False,\n",
    "    handle_unknown = \"ignore\")\n",
    "for fasta in glob.glob(\"../chroms/*.fa\"):\n",
    "    path = fasta\n",
    "    chr_tmp = encoder.transform_to_df(path, verbose=True)\n",
    "    print(path.split(\"/\")[-1].split(\".\")[0])\n",
    "    chr_tmp.to_csv(\"../chroms/oe_chroms/{}.csv\".format(path.split(\"/\")[-1].split(\".\")[0]))\n"
   ]
  },
  {
   "cell_type": "markdown",
   "id": "5ff6475a",
   "metadata": {},
   "source": [
    "## Create training data from one hot encoded files"
   ]
  },
  {
   "cell_type": "code",
   "execution_count": null,
   "id": "8ac22d2c",
   "metadata": {},
   "outputs": [],
   "source": [
    "def createMLData(chromosomes, step=200, nuc_context=1000):\n",
    "    bed_cols_names = [\"Chromosome\", \"Start\", \"End\", \"Name\", \"Score\", \"Strand\"]\n",
    "    pol3_df = pd.read_csv(\"../data/polr3d.bed\", sep=\"\\s+\", header=None, names=bed_cols_names)\n",
    "    for chrom in chromosomes:\n",
    "        print(chrom+\":\")\n",
    "        print(\"     Creating necessary directories...\")\n",
    "        output_dir1 = \"../data/tmp_data/\"\n",
    "        output_dir2 = \"../data/chr_trainingData/\"\n",
    "        if not os.path.exists(output_dir1):\n",
    "            os.makedirs(output_dir1)\n",
    "        if not os.path.exists(output_dir2):\n",
    "            os.makedirs(output_dir2)\n",
    "        #Process chromosome oe df to create training data\n",
    "        print(\"     Processing one-hot encoded dataframes...\")\n",
    "        chr_df = pd.read_csv(\"../chroms/oe_chroms/{}_oe.csv\".format(chrom))\n",
    "        chr_df[\"Label\"] = 0\n",
    "        pol3_chr_df = pol3_df[pol3_df[\"Chromosome\"] == \"{}\".format(chrom)]\n",
    "        for row in range(len(pol3_chr_df)):\n",
    "            beg_range = pol3_chr_df.iloc[row][\"Start\"]\n",
    "            end_range = pol3_chr_df.iloc[row][\"End\"]\n",
    "            chr_df.loc[beg_range:end_range, \"Label\"] = 1\n",
    "\n",
    "        print(\"     Creating training data. This may take a while...\")\n",
    "        #Start creating training data\n",
    "        labels = []\n",
    "        file_names = []\n",
    "        final_data = []\n",
    "        j = 1\n",
    "        #Get first and last non-N index\n",
    "        fasta_sequences = SeqIO.parse(open(\"../chroms/{}.fa\".format(chrom)),'fasta')\n",
    "        for seq in fasta_sequences:\n",
    "            name, sequence = seq.id, str(seq.seq)\n",
    "        a_idx = sequence.lower().index(\"a\")\n",
    "        c_idx = sequence.lower().index(\"c\")\n",
    "        g_idx = sequence.lower().index(\"g\")\n",
    "        t_idx = sequence.lower().index(\"t\")\n",
    "        chr_start_idx = min(a_idx,c_idx,g_idx,t_idx)\n",
    "        a_idx = sequence.lower().rfind(\"a\")\n",
    "        c_idx = sequence.lower().rfind(\"c\")\n",
    "        g_idx = sequence.lower().rfind(\"g\")\n",
    "        t_idx = sequence.lower().rfind(\"t\")\n",
    "        chr_end_idx = max(a_idx,c_idx,g_idx,t_idx)\n",
    "        for i in range(chr_start_idx, chr_end_idx+1, step):\n",
    "            if i <= chr_end_idx:\n",
    "                beg_seq = []\n",
    "                end_seq = []\n",
    "                start_idx = i - nuc_context\n",
    "                if start_idx < 0:\n",
    "                    start_idx = 0\n",
    "                    n_count = (i - nuc_context) * -1\n",
    "                    beg_seq = [[0,0,0,0]] * n_count\n",
    "                end_idx = i+step+nuc_context\n",
    "                if end_idx > len(chr_df):\n",
    "                    end_idx = len(chr_df)\n",
    "                    n_count = (i+step+nuc_context) - len(chr_df)\n",
    "                    end_seq = [[0,0,0,0]] * n_count\n",
    "\n",
    "                if beg_seq == [] and end_seq == []:\n",
    "                    training_seq = chr_df[start_idx:end_idx].drop(columns=[\"Unnamed: 0\", \"Label\"]).to_numpy()\n",
    "                elif beg_seq == [] and len(end_seq) != 0:\n",
    "                    training_seq = chr_df[start_idx:end_idx].drop(columns=[\"Unnamed: 0\", \"Label\"]).to_numpy() + np.array(end_seq)\n",
    "                elif len(beg_seq) != 0 and end_seq == []:\n",
    "                    training_seq = beg_seq + chr_df[start_idx:end_idx].drop(columns=[\"Unnamed: 0\", \"Label\"]).values.tolist()\n",
    "                tmp_df = chr_df[start_idx:end_idx]\n",
    "                grouped_df = tmp_df.groupby(\"Label\").count().reset_index()\n",
    "                try:\n",
    "                    if grouped_df[grouped_df[\"Label\"] == 1][\"Unnamed: 0\"][1] >= 65:\n",
    "                        labels.append([1])\n",
    "                    else:\n",
    "                        labels.append([0])\n",
    "                except KeyError:\n",
    "                    labels.append([0])\n",
    "                training_seq = np.array([training_seq])\n",
    "                if j == 1: \n",
    "                    training_data = training_seq\n",
    "                else:\n",
    "                    training_data = np.append(training_data, training_seq, axis=0)\n",
    "                if j % 10 == 0:\n",
    "                    np.save(\"../data/tmp_data/tmp_{}.npy\".format(i), training_data)\n",
    "                    file_names.append(\"../data/tmp_data/tmp_{}.npy\".format(i))\n",
    "                    j = 1\n",
    "                else:\n",
    "                    j+=1\n",
    "        \n",
    "        print(\"     Finalizing training data...\")\n",
    "        fpath =\"../data/chr_trainingData/{}_trainingData.npz\".format(chrom)\n",
    "        for npfile in file_names:\n",
    "            final_data.append(np.load(npfile))\n",
    "\n",
    "        labels = np.array(labels)\n",
    "        np.savez(fpath, np.concatenate(final_data), labels)\n",
    "\n",
    "        dir = '../data/tmp_data/'\n",
    "        shutil.rmtree(dir)\n",
    "        \n",
    "        print(\"Completed {}!\".format(chrom))"
   ]
  },
  {
   "cell_type": "code",
   "execution_count": null,
   "id": "10287186",
   "metadata": {},
   "outputs": [],
   "source": [
    "training_chroms = [\"chr1\", \"chr2\", \"chr3\", \"chr4\", \"chr5\", \"chr6\", \"chr9\", \"chr10\", \"chr11\", \"chr12\", \"chr13\", \"chr14\",\n",
    "                  \"chr15\", \"chr16\", \"chr17\", \"chr18\", \"chr19\", \"chr20\", \"chr21\", \"chr22\", \"chrX\", \"chrY\"]\n",
    "testing_chroms = [\"chr7\", \"chr8\"]\n"
   ]
  },
  {
   "cell_type": "code",
   "execution_count": null,
   "id": "453a9fed",
   "metadata": {},
   "outputs": [],
   "source": [
    "createMLData(training_chroms, 200, 1000)"
   ]
  },
  {
   "cell_type": "code",
   "execution_count": null,
   "id": "27bfaed0",
   "metadata": {},
   "outputs": [],
   "source": [
    "createMLData(testing_chroms, 200, 1000)"
   ]
  },
  {
   "cell_type": "code",
   "execution_count": null,
   "id": "96c5a859",
   "metadata": {},
   "outputs": [],
   "source": []
  },
  {
   "cell_type": "code",
   "execution_count": null,
   "id": "d7e8cfb7",
   "metadata": {},
   "outputs": [],
   "source": []
  },
  {
   "cell_type": "code",
   "execution_count": null,
   "id": "e767308b",
   "metadata": {},
   "outputs": [],
   "source": []
  },
  {
   "cell_type": "code",
   "execution_count": null,
   "id": "4ba142eb",
   "metadata": {},
   "outputs": [],
   "source": []
  },
  {
   "cell_type": "code",
   "execution_count": null,
   "id": "ecdbbfea",
   "metadata": {},
   "outputs": [],
   "source": []
  },
  {
   "cell_type": "code",
   "execution_count": null,
   "id": "fa1bdfce",
   "metadata": {},
   "outputs": [],
   "source": []
  },
  {
   "cell_type": "code",
   "execution_count": null,
   "id": "76a6bdf7",
   "metadata": {},
   "outputs": [],
   "source": []
  }
 ],
 "metadata": {
  "kernelspec": {
   "display_name": "Python 3 (ipykernel)",
   "language": "python",
   "name": "python3"
  },
  "language_info": {
   "codemirror_mode": {
    "name": "ipython",
    "version": 3
   },
   "file_extension": ".py",
   "mimetype": "text/x-python",
   "name": "python",
   "nbconvert_exporter": "python",
   "pygments_lexer": "ipython3",
   "version": "3.9.12"
  }
 },
 "nbformat": 4,
 "nbformat_minor": 5
}
